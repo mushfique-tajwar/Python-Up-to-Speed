{
 "cells": [
  {
   "cell_type": "code",
   "execution_count": 2,
   "metadata": {},
   "outputs": [],
   "source": [
    "import numpy as np"
   ]
  },
  {
   "cell_type": "code",
   "execution_count": 16,
   "metadata": {},
   "outputs": [
    {
     "name": "stdout",
     "output_type": "stream",
     "text": [
      "List  - [10, 20, 30, 40, 50, 60]\n",
      "Array - [10 20 30 40 50 60]\n"
     ]
    }
   ],
   "source": [
    "list_1 = [10,20,30,40,50,60]\n",
    "print(f\"List  - {list_1}\")\n",
    "\n",
    "array_1 = np.array(list_1)\n",
    "print(f\"Array - {array_1}\")"
   ]
  },
  {
   "cell_type": "code",
   "execution_count": 15,
   "metadata": {},
   "outputs": [
    {
     "name": "stdout",
     "output_type": "stream",
     "text": [
      "Append method 1 : [10 20 30 40 50 60 70]\n",
      "Append method 2 : [10 20 30 40 50 60 70 80]\n"
     ]
    }
   ],
   "source": [
    "array_2 = np.append(array_1,70)\n",
    "print(f\"Append method 1 : {array_2}\")\n",
    "\n",
    "array_2 = np.append(array_2,[80])\n",
    "print(f\"Append method 2 : {array_2}\")"
   ]
  },
  {
   "cell_type": "code",
   "execution_count": 17,
   "metadata": {},
   "outputs": [
    {
     "name": "stdout",
     "output_type": "stream",
     "text": [
      "Adding         : [11 21 31 41 51 61]\n",
      "Subtracting    : [10 20 30 40 50 60]\n",
      "Multiplying    : [ 50 100 150 200 250 300]\n",
      "Floor Dividing : [ 25  50  75 100 125 150]\n",
      "Dividing       : [12.5 25.  37.5 50.  62.5 75. ]\n"
     ]
    }
   ],
   "source": [
    "#Vectorized Operations\n",
    "\n",
    "arr = np.array([10,20,30,40,50,60])\n",
    "\n",
    "arr = arr + 1\n",
    "print(f\"Adding         : {arr}\")\n",
    "\n",
    "arr = arr - 1\n",
    "print(f\"Subtracting    : {arr}\")\n",
    "\n",
    "arr = arr * 5\n",
    "print(f\"Multiplying    : {arr}\")\n",
    "\n",
    "arr = arr // 2\n",
    "print(f\"Floor Dividing : {arr}\")\n",
    "\n",
    "arr = arr / 2\n",
    "print(f\"Dividing       : {arr}\")"
   ]
  },
  {
   "cell_type": "code",
   "execution_count": 34,
   "metadata": {},
   "outputs": [
    {
     "name": "stdout",
     "output_type": "stream",
     "text": [
      "Minimum 10\n",
      "Maximum 90\n"
     ]
    }
   ],
   "source": [
    "arr = np.array([70,30,90,40,50,10])\n",
    "min = arr[0]\n",
    "max = arr[0]\n",
    "for i in arr:\n",
    "    if i < min:\n",
    "        min = i\n",
    "    if i > max:\n",
    "        max = i\n",
    "\n",
    "print(\"Minimum\",min)\n",
    "print(\"Maximum\",max)"
   ]
  },
  {
   "cell_type": "code",
   "execution_count": null,
   "metadata": {},
   "outputs": [],
   "source": [
    "arr1 = np.array([70,30,90,40,50,10])"
   ]
  },
  {
   "cell_type": "code",
   "execution_count": 7,
   "metadata": {},
   "outputs": [
    {
     "name": "stdout",
     "output_type": "stream",
     "text": [
      "[1 2 3]\n",
      "[[1 2]\n",
      " [3 4]]\n"
     ]
    }
   ],
   "source": [
    "arr1 = np.array([1, 2, 3])  # 1D array\n",
    "arr2 = np.array([[1, 2], [3, 4]])  # 2D array\n",
    "print(arr1)\n",
    "print(arr2)"
   ]
  },
  {
   "cell_type": "code",
   "execution_count": 12,
   "metadata": {},
   "outputs": [
    {
     "name": "stdout",
     "output_type": "stream",
     "text": [
      "3x3 array of zeros\n",
      "[[0. 0. 0.]\n",
      " [0. 0. 0.]\n",
      " [0. 0. 0.]]\n",
      "\n",
      "2x4 array of ones\n",
      "[[1. 1. 1. 1.]\n",
      " [1. 1. 1. 1.]]\n",
      "\n",
      "Identity matrix\n",
      "[[1. 0. 0.]\n",
      " [0. 1. 0.]\n",
      " [0. 0. 1.]]\n",
      "\n",
      "2x2 array filled with 7\n",
      "[[7 7]\n",
      " [7 7]]\n",
      "\n",
      "Array from 0 to 10 with step 2\n",
      "[0 2 4 6 8]\n",
      "\n",
      "5 equally spaced numbers between 0 and 1\n",
      "[0.   0.25 0.5  0.75 1.  ]\n"
     ]
    }
   ],
   "source": [
    "print(\"3x3 array of zeros\")\n",
    "print(np.zeros((3, 3)))\n",
    "print()\n",
    "\n",
    "print(\"2x4 array of ones\")\n",
    "print(np.ones((2, 4)))\n",
    "print()\n",
    "\n",
    "print(\"Identity matrix\")\n",
    "print(np.eye(3))\n",
    "print()\n",
    "\n",
    "print(\"2x2 array filled with 7\")\n",
    "print(np.full((2, 2), 7))\n",
    "print()\n",
    "\n",
    "print(\"Array from 0 to 10 with step 2\")\n",
    "print(np.arange(0, 10, 2))\n",
    "print()\n",
    "\n",
    "print(\"5 equally spaced numbers between 0 and 1\")\n",
    "print(np.linspace(0, 1, 5))"
   ]
  },
  {
   "cell_type": "code",
   "execution_count": null,
   "metadata": {},
   "outputs": [
    {
     "name": "stdout",
     "output_type": "stream",
     "text": [
      "[20 30 40]\n",
      "[10 30 50]\n"
     ]
    }
   ],
   "source": [
    "# Slicing\n",
    "arr = np.array([10, 20, 30, 40, 50])\n",
    "print(arr[1:4])\n",
    "print(arr[::2])"
   ]
  },
  {
   "cell_type": "code",
   "execution_count": null,
   "metadata": {},
   "outputs": [
    {
     "name": "stdout",
     "output_type": "stream",
     "text": [
      "2\n",
      "[2 5]\n"
     ]
    }
   ],
   "source": [
    "#2D Slicing\n",
    "arr2 = np.array([[1, 2, 3], [4, 5, 6]])\n",
    "print(arr2[0, 1])\n",
    "print(arr2[:, 1])"
   ]
  },
  {
   "cell_type": "code",
   "execution_count": 16,
   "metadata": {},
   "outputs": [
    {
     "name": "stdout",
     "output_type": "stream",
     "text": [
      "[[2 3 4]\n",
      " [3 4 5]\n",
      " [4 5 6]]\n"
     ]
    }
   ],
   "source": [
    "#Broadcasting\n",
    "arr1 = np.array([1, 2, 3])\n",
    "arr2 = np.array([[1], [2], [3]])\n",
    "print(arr1 + arr2)"
   ]
  },
  {
   "cell_type": "code",
   "execution_count": 18,
   "metadata": {},
   "outputs": [
    {
     "name": "stdout",
     "output_type": "stream",
     "text": [
      "290\n",
      "48.333333333333336\n",
      "10\n",
      "90\n",
      "26.087459737497547\n",
      "5\n",
      "2\n"
     ]
    }
   ],
   "source": [
    "#Aggragated Functions\n",
    "arr = np.array([70,30,90,40,50,10])\n",
    "\n",
    "print(arr.sum())        # Sum of elements\n",
    "print(arr.mean())       # Mean\n",
    "print(arr.min())\n",
    "print(arr.max())  # Minimum, maximum\n",
    "print(arr.std())        # Standard deviation\n",
    "print(arr.argmin())     # Index of the minimum value\n",
    "print(arr.argmax())     # Index of the maximum value\n"
   ]
  },
  {
   "cell_type": "code",
   "execution_count": null,
   "metadata": {},
   "outputs": [
    {
     "name": "stdout",
     "output_type": "stream",
     "text": [
      "Ascending Sort  [10 30 40 50 70 90]\n",
      "Descending Sort [90 70 50 40 30 10]\n"
     ]
    }
   ],
   "source": [
    "#Sort with Built-In Function\n",
    "\n",
    "arr = np.array([70,30,90,40,50,10])\n",
    "\n",
    "arr.sort()\n",
    "print(\"Ascending Sort \",arr)\n",
    "\n",
    "arrdesc = np.sort(arr)[::-1]\n",
    "print(\"Descending Sort\",arrdesc)"
   ]
  },
  {
   "cell_type": "code",
   "execution_count": 23,
   "metadata": {},
   "outputs": [
    {
     "name": "stdout",
     "output_type": "stream",
     "text": [
      "Descending: [5 4 3 1 1]\n"
     ]
    }
   ],
   "source": [
    "arr = np.array([3, 1, 4, 1, 5])\n",
    "desc_sorted = np.sort(arr)[::-1]\n",
    "print(\"Descending:\", desc_sorted)\n"
   ]
  },
  {
   "cell_type": "code",
   "execution_count": 21,
   "metadata": {},
   "outputs": [
    {
     "name": "stdout",
     "output_type": "stream",
     "text": [
      "Rows sorted: [[1 2 3]\n",
      " [4 5 6]]\n",
      "Columns sorted: [[3 2 1]\n",
      " [6 5 4]]\n"
     ]
    }
   ],
   "source": [
    "arr = np.array([[3, 2, 1], [6, 5, 4]])\n",
    "\n",
    "# Sort along rows (default axis=-1)\n",
    "sorted_rows = np.sort(arr, axis=1)\n",
    "print(\"Rows sorted:\", sorted_rows)\n",
    "\n",
    "# Sort along columns (axis=0)\n",
    "sorted_columns = np.sort(arr, axis=0)\n",
    "print(\"Columns sorted:\", sorted_columns)"
   ]
  }
 ],
 "metadata": {
  "kernelspec": {
   "display_name": "Python 3",
   "language": "python",
   "name": "python3"
  },
  "language_info": {
   "codemirror_mode": {
    "name": "ipython",
    "version": 3
   },
   "file_extension": ".py",
   "mimetype": "text/x-python",
   "name": "python",
   "nbconvert_exporter": "python",
   "pygments_lexer": "ipython3",
   "version": "3.13.0"
  }
 },
 "nbformat": 4,
 "nbformat_minor": 2
}
