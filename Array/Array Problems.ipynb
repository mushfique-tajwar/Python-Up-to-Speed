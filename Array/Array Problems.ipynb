{
 "cells": [
  {
   "cell_type": "code",
   "execution_count": 1,
   "metadata": {},
   "outputs": [],
   "source": [
    "import numpy as np"
   ]
  },
  {
   "cell_type": "code",
   "execution_count": 2,
   "metadata": {},
   "outputs": [
    {
     "name": "stdout",
     "output_type": "stream",
     "text": [
      "Original [70 30 90 40 50 10]\n",
      "Reversed [10. 50. 40. 90. 30. 70.]\n"
     ]
    }
   ],
   "source": [
    "#Reverse an Array\n",
    "def reverse(arr):\n",
    "    if len(arr) == 1 or len(arr) == 0:\n",
    "        return arr\n",
    "    else:\n",
    "        arr2 = np.array([])\n",
    "        for i in range(-1,-len(arr1)-1,-1):\n",
    "            arr2 = np.append(arr2, arr1[i])\n",
    "        return arr2\n",
    "\n",
    "arr1 = np.array([70,30,90,40,50,10])\n",
    "arr2 = reverse(arr1)\n",
    "print(\"Original\",arr1)\n",
    "print(\"Reversed\",arr2)"
   ]
  },
  {
   "cell_type": "code",
   "execution_count": null,
   "metadata": {},
   "outputs": [
    {
     "name": "stdout",
     "output_type": "stream",
     "text": [
      "Duplicates: [2, 3]\n"
     ]
    }
   ],
   "source": [
    "#Finding Duplicates\n",
    "def find_duplicates(arr):\n",
    "    arr.sort()\n",
    "    duplicates = []\n",
    "    for i in range(1, len(arr)):\n",
    "        if arr[i] == arr[i - 1]:\n",
    "            if arr[i] not in duplicates:\n",
    "                duplicates.append(arr[i])\n",
    "    return duplicates\n",
    "\n",
    "arr = [4, 3, 2, 7, 8, 2, 3, 1]\n",
    "print(\"Duplicates:\", find_duplicates(arr))"
   ]
  },
  {
   "cell_type": "code",
   "execution_count": 4,
   "metadata": {},
   "outputs": [
    {
     "name": "stdout",
     "output_type": "stream",
     "text": [
      "Duplicates: [3, 2]\n"
     ]
    }
   ],
   "source": [
    "#Finding Duplicates (Brute Force)\n",
    "def find_duplicates(arr):\n",
    "    duplicates = []\n",
    "    for i in range(len(arr)):\n",
    "        for j in range(i + 1, len(arr)):\n",
    "            if arr[i] == arr[j] and arr[i] not in duplicates:\n",
    "                duplicates.append(arr[i])\n",
    "    return duplicates\n",
    "\n",
    "arr = [4, 3, 2, 7, 8, 2, 3, 1]\n",
    "print(\"Duplicates:\", find_duplicates(arr))\n"
   ]
  },
  {
   "cell_type": "code",
   "execution_count": 20,
   "metadata": {},
   "outputs": [
    {
     "name": "stdout",
     "output_type": "stream",
     "text": [
      "Count of 2 : 3\n"
     ]
    }
   ],
   "source": [
    "#Find occurences of a Integer in an array\n",
    "def count_occurrences(nums, x):\n",
    "    count = 0\n",
    "    for num in nums:\n",
    "        if num == x:\n",
    "            count += 1\n",
    "    return count\n",
    "\n",
    "nums = [1, 2, 2, 3, 3, 3, 4, 2]\n",
    "x = 2\n",
    "print(\"Count of\", x, \":\", count_occurrences(nums, x))"
   ]
  },
  {
   "cell_type": "code",
   "execution_count": 21,
   "metadata": {},
   "outputs": [
    {
     "name": "stdout",
     "output_type": "stream",
     "text": [
      "Frequencies: {1: 1, 2: 2, 3: 3, 4: 1}\n"
     ]
    }
   ],
   "source": [
    "#Find occurences of all Integer in an array\n",
    "def count_frequencies(nums):\n",
    "    freq = {}\n",
    "    for num in nums:\n",
    "        freq[num] = freq.get(num, 0) + 1\n",
    "    return freq\n",
    "\n",
    "nums = [1, 2, 2, 3, 3, 3, 4]\n",
    "print(\"Frequencies:\", count_frequencies(nums))"
   ]
  },
  {
   "cell_type": "code",
   "execution_count": 17,
   "metadata": {},
   "outputs": [
    {
     "name": "stdout",
     "output_type": "stream",
     "text": [
      "Majority Element (Brute Force): -1\n"
     ]
    }
   ],
   "source": [
    "#Majority Element\n",
    "def majority_element_brute(nums):\n",
    "    n = len(nums)\n",
    "    for i in range(n):\n",
    "        count = 0\n",
    "        for j in range(n):\n",
    "            if nums[j] == nums[i]:\n",
    "                count += 1\n",
    "        if count > n // 2:\n",
    "            return nums[i]\n",
    "    return -1\n",
    "\n",
    "nums = [3, 3, 4, 2, 4, 4, 2, 4]\n",
    "print(\"Majority Element (Brute Force):\", majority_element_brute(nums))"
   ]
  },
  {
   "cell_type": "code",
   "execution_count": 5,
   "metadata": {},
   "outputs": [
    {
     "name": "stdout",
     "output_type": "stream",
     "text": [
      "Wave Array: [5, 3, 7, 6, 20, 10]\n"
     ]
    }
   ],
   "source": [
    "#Wave Array\n",
    "def wave_array(arr):\n",
    "    arr.sort()\n",
    "    for i in range(0, len(arr) - 1, 2):\n",
    "        arr[i], arr[i + 1] = arr[i + 1], arr[i]\n",
    "    return arr\n",
    "\n",
    "arr = [3, 6, 5, 10, 7, 20]\n",
    "print(\"Wave Array:\", wave_array(arr))"
   ]
  },
  {
   "cell_type": "code",
   "execution_count": 10,
   "metadata": {},
   "outputs": [
    {
     "name": "stdout",
     "output_type": "stream",
     "text": [
      "Trapped Water (Brute Force): 9\n"
     ]
    }
   ],
   "source": [
    "#Trapping Rainwater\n",
    "def trap_brute_force(heights):\n",
    "    n = len(heights)\n",
    "    total_water = 0\n",
    "    for i in range(n):\n",
    "        max_left = max(heights[:i+1])\n",
    "        max_right = max(heights[i:])\n",
    "        total_water += max(0, min(max_left, max_right) - heights[i])\n",
    "    return total_water\n",
    "\n",
    "heights = [2, 1, 5, 3, 1, 0, 4]\n",
    "print(\"Trapped Water (Brute Force):\", trap_brute_force(heights))"
   ]
  }
 ],
 "metadata": {
  "kernelspec": {
   "display_name": "Python 3",
   "language": "python",
   "name": "python3"
  },
  "language_info": {
   "codemirror_mode": {
    "name": "ipython",
    "version": 3
   },
   "file_extension": ".py",
   "mimetype": "text/x-python",
   "name": "python",
   "nbconvert_exporter": "python",
   "pygments_lexer": "ipython3",
   "version": "3.13.0"
  }
 },
 "nbformat": 4,
 "nbformat_minor": 2
}
