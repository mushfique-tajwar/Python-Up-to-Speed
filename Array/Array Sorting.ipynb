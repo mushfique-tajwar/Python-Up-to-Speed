{
 "cells": [
  {
   "cell_type": "code",
   "execution_count": 1,
   "metadata": {},
   "outputs": [],
   "source": [
    "import numpy as np"
   ]
  },
  {
   "cell_type": "code",
   "execution_count": 2,
   "metadata": {},
   "outputs": [
    {
     "name": "stdout",
     "output_type": "stream",
     "text": [
      "Ascending Sort  [10 30 40 50 70 90]\n",
      "Descending Sort [90 70 50 40 30 10]\n"
     ]
    }
   ],
   "source": [
    "#Built-In\n",
    "\n",
    "arr = np.array([70,30,90,40,50,10])\n",
    "\n",
    "arr.sort()\n",
    "print(\"Ascending Sort \",arr)\n",
    "\n",
    "arrdesc = np.sort(arr)[::-1]\n",
    "print(\"Descending Sort\",arrdesc)"
   ]
  },
  {
   "cell_type": "code",
   "execution_count": null,
   "metadata": {},
   "outputs": [
    {
     "name": "stdout",
     "output_type": "stream",
     "text": [
      "Sorted array: [1 1 3 4 5]\n"
     ]
    }
   ],
   "source": [
    "#Bubble Sort O(n^2) O(1)\n",
    "\n",
    "def bubble_sort(arr):\n",
    "    n = len(arr)\n",
    "    for i in range(n - 1):\n",
    "        for j in range(n - i - 1):\n",
    "            if arr[j] > arr[j + 1]:\n",
    "                arr[j], arr[j + 1] = arr[j + 1], arr[j]\n",
    "    return arr\n",
    "\n",
    "arr = [3, 1, 4, 1, 5]\n",
    "arr2 = np.array(bubble_sort(arr))\n",
    "print(\"Sorted array:\", arr2)"
   ]
  },
  {
   "cell_type": "code",
   "execution_count": 9,
   "metadata": {},
   "outputs": [
    {
     "name": "stdout",
     "output_type": "stream",
     "text": [
      "Sorted array: [-4, 1, 1, 3, 5]\n"
     ]
    }
   ],
   "source": [
    "#Selection Sort O(n^2) O(1)\n",
    "def selection_sort(arr):\n",
    "    n = len(arr)\n",
    "    for i in range(n):\n",
    "        min_idx = i\n",
    "        for j in range(i + 1, n):\n",
    "            if arr[j] < arr[min_idx]:\n",
    "                min_idx = j\n",
    "        arr[i], arr[min_idx] = arr[min_idx], arr[i]\n",
    "    return arr\n",
    "\n",
    "arr = [3, 1, -4, 1, 5]\n",
    "print(\"Sorted array:\", selection_sort(arr))"
   ]
  },
  {
   "cell_type": "code",
   "execution_count": null,
   "metadata": {},
   "outputs": [
    {
     "name": "stdout",
     "output_type": "stream",
     "text": [
      "Sorted array: [1, 1, 3, 4, 5]\n"
     ]
    }
   ],
   "source": [
    "#Insertion Sort O(n^2) O(1)\n",
    "def insertion_sort(arr):\n",
    "    for i in range(1, len(arr)):\n",
    "        key = arr[i]\n",
    "        j = i - 1\n",
    "        while j >= 0 and key < arr[j]:\n",
    "            arr[j + 1] = arr[j]\n",
    "            j -= 1\n",
    "        arr[j + 1] = key\n",
    "    return arr\n",
    "\n",
    "arr = [3, 1, 4, 1, 5]\n",
    "print(\"Sorted array:\", insertion_sort(arr))"
   ]
  },
  {
   "cell_type": "code",
   "execution_count": null,
   "metadata": {},
   "outputs": [
    {
     "name": "stdout",
     "output_type": "stream",
     "text": [
      "Sorted array: [1, 1, 3, 4, 5]\n"
     ]
    }
   ],
   "source": [
    "#Merge Sort O(nlogn) O(n)\n",
    "def merge_sort(arr):\n",
    "    if len(arr) <= 1:\n",
    "        return arr\n",
    "    mid = len(arr) // 2\n",
    "    left = merge_sort(arr[:mid])\n",
    "    right = merge_sort(arr[mid:])\n",
    "    return merge(left, right)\n",
    "\n",
    "def merge(left, right):\n",
    "    sorted_arr = []\n",
    "    i = j = 0\n",
    "    while i < len(left) and j < len(right):\n",
    "        if left[i] < right[j]:\n",
    "            sorted_arr.append(left[i])\n",
    "            i += 1\n",
    "        else:\n",
    "            sorted_arr.append(right[j])\n",
    "            j += 1\n",
    "    sorted_arr.extend(left[i:])\n",
    "    sorted_arr.extend(right[j:])\n",
    "    return sorted_arr\n",
    "\n",
    "arr = [3, 1, 4, 1, 5]\n",
    "print(\"Sorted array:\", merge_sort(arr))"
   ]
  },
  {
   "cell_type": "code",
   "execution_count": 8,
   "metadata": {},
   "outputs": [
    {
     "name": "stdout",
     "output_type": "stream",
     "text": [
      "Sorted array: [1, 1, 3, 4, 5]\n"
     ]
    }
   ],
   "source": [
    "#Quick Sort O(nlogn -> n^2) O(logn)\n",
    "def quick_sort(arr):\n",
    "    if len(arr) <= 1:\n",
    "        return arr\n",
    "    pivot = arr[len(arr) // 2]\n",
    "    left = [x for x in arr if x < pivot]\n",
    "    middle = [x for x in arr if x == pivot]\n",
    "    right = [x for x in arr if x > pivot]\n",
    "    return quick_sort(left) + middle + quick_sort(right)\n",
    "\n",
    "arr = [3, 1, 4, 1, 5]\n",
    "print(\"Sorted array:\", quick_sort(arr))"
   ]
  }
 ],
 "metadata": {
  "kernelspec": {
   "display_name": "Python 3",
   "language": "python",
   "name": "python3"
  },
  "language_info": {
   "codemirror_mode": {
    "name": "ipython",
    "version": 3
   },
   "file_extension": ".py",
   "mimetype": "text/x-python",
   "name": "python",
   "nbconvert_exporter": "python",
   "pygments_lexer": "ipython3",
   "version": "3.13.0"
  }
 },
 "nbformat": 4,
 "nbformat_minor": 2
}
