{
 "cells": [
  {
   "cell_type": "code",
   "execution_count": null,
   "metadata": {},
   "outputs": [],
   "source": [
    "class Node:\n",
    "    def __init__(self, data):\n",
    "        self.data = data\n",
    "        self.next = None\n",
    "        self.prev = None\n",
    "\n",
    "class DoublyLinkedList:\n",
    "    def __init__(self):\n",
    "        self.head = None\n",
    "    \n",
    "    def insert_at_beginning(self, data):\n",
    "        new_node = Node(data)\n",
    "        if not self.head:\n",
    "            self.head = new_node\n",
    "            return\n",
    "        new_node.next = self.head\n",
    "        self.head.prev = new_node\n",
    "        self.head = new_node\n",
    "\n",
    "    def insert_at_end(self, data):\n",
    "        new_node = Node(data)\n",
    "        if not self.head:\n",
    "            self.head = new_node\n",
    "            return\n",
    "        last_node = self.head\n",
    "        while last_node.next:\n",
    "            last_node = last_node.next\n",
    "        last_node.next = new_node\n",
    "        new_node.prev = last_node\n",
    "\n",
    "    def insert_after(self, prev_node_data, data):\n",
    "        new_node = Node(data)\n",
    "        temp = self.head\n",
    "        while temp:\n",
    "            if temp.data == prev_node_data:\n",
    "                new_node.next = temp.next\n",
    "                new_node.prev = temp\n",
    "                if temp.next:\n",
    "                    temp.next.prev = new_node\n",
    "                temp.next = new_node\n",
    "                return\n",
    "            temp = temp.next\n",
    "\n",
    "    def delete(self, key):\n",
    "        temp = self.head\n",
    "        if temp and temp.data == key:\n",
    "            self.head = temp.next\n",
    "            if self.head:\n",
    "                self.head.prev = None\n",
    "            temp = None\n",
    "            return\n",
    "        while temp:\n",
    "            if temp.data == key:\n",
    "                if temp.next:\n",
    "                    temp.next.prev = temp.prev\n",
    "                if temp.prev:\n",
    "                    temp.prev.next = temp.next\n",
    "                temp = None\n",
    "                return\n",
    "            temp = temp.next\n",
    "\n",
    "    def delete_first(self):\n",
    "        if not self.head:\n",
    "            return\n",
    "        temp = self.head\n",
    "        if temp.next:\n",
    "            temp.next.prev = None\n",
    "        self.head = temp.next\n",
    "        temp = None\n",
    "\n",
    "    def delete_last(self):\n",
    "        if not self.head:\n",
    "            return\n",
    "        temp = self.head\n",
    "        while temp.next:\n",
    "            temp = temp.next\n",
    "        if temp.prev:\n",
    "            temp.prev.next = None\n",
    "        temp = None\n",
    "\n",
    "    def traverse_forward(self):\n",
    "        temp = self.head\n",
    "        while temp:\n",
    "            print(temp.data, end=\" \")\n",
    "            temp = temp.next\n",
    "\n",
    "    def traverse_backward(self):\n",
    "        temp = self.head\n",
    "        while temp and temp.next:\n",
    "            temp = temp.next\n",
    "        while temp:\n",
    "            print(temp.data, end=\" \")\n",
    "            temp = temp.prev\n",
    "\n",
    "    def is_empty(self):\n",
    "        return self.head is None\n",
    "\n",
    "    def find(self, key):\n",
    "        temp = self.head\n",
    "        while temp:\n",
    "            if temp.data == key:\n",
    "                return True\n",
    "            temp = temp.next\n",
    "        return False\n",
    "    \n",
    "    def print_list_forward(self):\n",
    "        temp = self.head\n",
    "        while temp:\n",
    "            print(temp.data, end=\" \")\n",
    "            temp = temp.next\n",
    "        print()\n",
    "\n",
    "    def print_list_backward(self):\n",
    "        temp = self.head\n",
    "        while temp and temp.next:\n",
    "            temp = temp.next\n",
    "        while temp:\n",
    "            print(temp.data, end=\" \")\n",
    "            temp = temp.prev\n",
    "        print()"
   ]
  },
  {
   "cell_type": "code",
   "execution_count": 7,
   "metadata": {},
   "outputs": [],
   "source": [
    "dll = DoublyLinkedList()"
   ]
  },
  {
   "cell_type": "code",
   "execution_count": null,
   "metadata": {},
   "outputs": [],
   "source": [
    "dll.insert_at_beginning(10)\n",
    "dll.insert_at_beginning(20)\n",
    "dll.insert_at_beginning(30)"
   ]
  },
  {
   "cell_type": "code",
   "execution_count": null,
   "metadata": {},
   "outputs": [],
   "source": [
    "dll.insert_at_end(40)\n",
    "dll.insert_at_end(50)"
   ]
  },
  {
   "cell_type": "code",
   "execution_count": null,
   "metadata": {},
   "outputs": [
    {
     "name": "stdout",
     "output_type": "stream",
     "text": [
      "30 20 10 40 50 \n"
     ]
    }
   ],
   "source": [
    "dll.print_list_forward()"
   ]
  },
  {
   "cell_type": "code",
   "execution_count": null,
   "metadata": {},
   "outputs": [
    {
     "name": "stdout",
     "output_type": "stream",
     "text": [
      "50 40 10 20 30 \n"
     ]
    }
   ],
   "source": [
    "dll.print_list_backward()"
   ]
  },
  {
   "cell_type": "code",
   "execution_count": null,
   "metadata": {},
   "outputs": [],
   "source": [
    "dll.insert_at_end(60)\n",
    "dll.insert_at_beginning(5)"
   ]
  },
  {
   "cell_type": "code",
   "execution_count": null,
   "metadata": {},
   "outputs": [
    {
     "name": "stdout",
     "output_type": "stream",
     "text": [
      "5 30 20 10 40 50 60 \n",
      "60 50 40 10 20 30 5 \n"
     ]
    }
   ],
   "source": [
    "dll.print_list_forward()\n",
    "dll.print_list_backward()"
   ]
  }
 ],
 "metadata": {
  "kernelspec": {
   "display_name": "Python 3",
   "language": "python",
   "name": "python3"
  },
  "language_info": {
   "codemirror_mode": {
    "name": "ipython",
    "version": 3
   },
   "file_extension": ".py",
   "mimetype": "text/x-python",
   "name": "python",
   "nbconvert_exporter": "python",
   "pygments_lexer": "ipython3",
   "version": "3.13.0"
  }
 },
 "nbformat": 4,
 "nbformat_minor": 2
}
