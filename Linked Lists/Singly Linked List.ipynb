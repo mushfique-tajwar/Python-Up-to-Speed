{
 "cells": [
  {
   "cell_type": "code",
   "execution_count": 5,
   "metadata": {},
   "outputs": [],
   "source": [
    "class Node:\n",
    "    def __init__(self, data):\n",
    "        self.data = data\n",
    "        self.next = None\n",
    "\n",
    "class SinglyLinkedList:\n",
    "    def __init__(self):\n",
    "        self.head = None\n",
    "\n",
    "    def insert_at_beginning(self, data):\n",
    "        new_node = Node(data)\n",
    "        new_node.next = self.head\n",
    "        self.head = new_node\n",
    "\n",
    "    def insert_at_end(self, data):\n",
    "        new_node = Node(data)\n",
    "        if not self.head:\n",
    "            self.head = new_node\n",
    "            return\n",
    "        temp = self.head\n",
    "        while temp.next:\n",
    "            temp = temp.next\n",
    "        temp.next = new_node\n",
    "\n",
    "    def insert_at_position(self, position, data):\n",
    "        if position == 0:\n",
    "            self.insert_at_beginning(data)\n",
    "            return\n",
    "        new_node = Node(data)\n",
    "        temp = self.head\n",
    "        for _ in range(position - 1):\n",
    "            if not temp:\n",
    "                raise IndexError(\"Position out of range\")\n",
    "            temp = temp.next\n",
    "        new_node.next = temp.next\n",
    "        temp.next = new_node\n",
    "\n",
    "    def delete_by_value(self, value):\n",
    "        if not self.head:\n",
    "            return\n",
    "        if self.head.data == value:\n",
    "            self.head = self.head.next\n",
    "            return\n",
    "        temp = self.head\n",
    "        while temp.next and temp.next.data != value:\n",
    "            temp = temp.next\n",
    "        if temp.next:\n",
    "            temp.next = temp.next.next\n",
    "\n",
    "    def search(self, value):\n",
    "        temp = self.head\n",
    "        while temp:\n",
    "            if temp.data == value:\n",
    "                return True\n",
    "            temp = temp.next\n",
    "        return False\n",
    "\n",
    "    def reverse(self):\n",
    "        prev = None\n",
    "        current = self.head\n",
    "        while current:\n",
    "            next_node = current.next\n",
    "            current.next = prev\n",
    "            prev = current\n",
    "            current = next_node\n",
    "        self.head = prev\n",
    "\n",
    "    def find_middle(self):\n",
    "        slow = self.head\n",
    "        fast = self.head\n",
    "        while fast and fast.next:\n",
    "            slow = slow.next\n",
    "            fast = fast.next.next\n",
    "        return slow.data if slow else None\n",
    "\n",
    "    def detect_cycle(self):\n",
    "        slow = self.head\n",
    "        fast = self.head\n",
    "        while fast and fast.next:\n",
    "            slow = slow.next\n",
    "            fast = fast.next.next\n",
    "            if slow == fast:\n",
    "                return True\n",
    "        return False\n",
    "\n",
    "    def print_list(self):\n",
    "        temp = self.head\n",
    "        while temp:\n",
    "            print(temp.data, end=\" -> \")\n",
    "            temp = temp.next\n",
    "        print(\"None\")\n",
    "\n",
    "    def length(self):\n",
    "        count = 0\n",
    "        temp = self.head\n",
    "        while temp:\n",
    "            count += 1\n",
    "            temp = temp.next\n",
    "        return count\n",
    "\n",
    "    def to_list(self):\n",
    "        result = []\n",
    "        temp = self.head\n",
    "        while temp:\n",
    "            result.append(temp.data)\n",
    "            temp = temp.next\n",
    "        return result\n"
   ]
  },
  {
   "cell_type": "code",
   "execution_count": 11,
   "metadata": {},
   "outputs": [],
   "source": [
    "sll = SinglyLinkedList()"
   ]
  },
  {
   "cell_type": "code",
   "execution_count": null,
   "metadata": {},
   "outputs": [
    {
     "name": "stdout",
     "output_type": "stream",
     "text": [
      "Inserting at the beginning:\n",
      "30 -> 20 -> 10 -> None\n"
     ]
    }
   ],
   "source": [
    "# Insert at the beginning\n",
    "print(\"Inserting at the beginning:\")\n",
    "sll.insert_at_beginning(10)\n",
    "sll.insert_at_beginning(20)\n",
    "sll.insert_at_beginning(30)\n",
    "sll.print_list()"
   ]
  },
  {
   "cell_type": "code",
   "execution_count": null,
   "metadata": {},
   "outputs": [
    {
     "name": "stdout",
     "output_type": "stream",
     "text": [
      "Inserting at the end:\n",
      "30 -> 20 -> 10 -> 40 -> 50 -> None\n"
     ]
    }
   ],
   "source": [
    "# Insert at the end\n",
    "print(\"Inserting at the end:\")\n",
    "sll.insert_at_end(40)\n",
    "sll.insert_at_end(50)\n",
    "sll.print_list()"
   ]
  },
  {
   "cell_type": "code",
   "execution_count": null,
   "metadata": {},
   "outputs": [
    {
     "name": "stdout",
     "output_type": "stream",
     "text": [
      "\n",
      "Inserting at position 2:\n",
      "30 -> 20 -> 25 -> 10 -> 40 -> 50 -> None\n"
     ]
    }
   ],
   "source": [
    "# Insert at a specific position\n",
    "print(\"Inserting at position 2:\")\n",
    "sll.insert_at_position(2, 25)\n",
    "sll.print_list()"
   ]
  },
  {
   "cell_type": "code",
   "execution_count": null,
   "metadata": {},
   "outputs": [
    {
     "name": "stdout",
     "output_type": "stream",
     "text": [
      "\n",
      "Deleting by value (10):\n",
      "30 -> 20 -> 25 -> 40 -> 50 -> None\n"
     ]
    }
   ],
   "source": [
    "# Delete by value\n",
    "print(\"Deleting by value (10):\")\n",
    "sll.delete_by_value(10)\n",
    "sll.print_list()"
   ]
  },
  {
   "cell_type": "code",
   "execution_count": null,
   "metadata": {},
   "outputs": [
    {
     "name": "stdout",
     "output_type": "stream",
     "text": [
      "Searching for 25:\n",
      "True\n",
      "Searching for 100:\n",
      "False\n"
     ]
    }
   ],
   "source": [
    "# Search for an element\n",
    "print(\"Searching for 25:\")\n",
    "print(sll.search(25))\n",
    "print(\"Searching for 100:\")\n",
    "print(sll.search(100))"
   ]
  },
  {
   "cell_type": "code",
   "execution_count": 17,
   "metadata": {},
   "outputs": [
    {
     "name": "stdout",
     "output_type": "stream",
     "text": [
      "Reversing the linked list:\n",
      "50 -> 40 -> 25 -> 20 -> 30 -> None\n"
     ]
    }
   ],
   "source": [
    "# Reverse the linked list\n",
    "print(\"Reversing the linked list:\")\n",
    "sll.reverse()\n",
    "sll.print_list()"
   ]
  },
  {
   "cell_type": "code",
   "execution_count": 18,
   "metadata": {},
   "outputs": [
    {
     "name": "stdout",
     "output_type": "stream",
     "text": [
      "Finding the middle element:\n",
      "25\n"
     ]
    }
   ],
   "source": [
    "# Find the middle element\n",
    "print(\"Finding the middle element:\")\n",
    "print(sll.find_middle())"
   ]
  },
  {
   "cell_type": "code",
   "execution_count": 19,
   "metadata": {},
   "outputs": [
    {
     "name": "stdout",
     "output_type": "stream",
     "text": [
      "Detecting a cycle:\n",
      "False\n"
     ]
    }
   ],
   "source": [
    "# Detect a cycle (there is no cycle here)\n",
    "print(\"Detecting a cycle:\")\n",
    "print(sll.detect_cycle())"
   ]
  },
  {
   "cell_type": "code",
   "execution_count": 20,
   "metadata": {},
   "outputs": [
    {
     "name": "stdout",
     "output_type": "stream",
     "text": [
      "Length of the list:\n",
      "5\n"
     ]
    }
   ],
   "source": [
    "# Get the length of the list\n",
    "print(\"Length of the list:\")\n",
    "print(sll.length())"
   ]
  },
  {
   "cell_type": "code",
   "execution_count": 21,
   "metadata": {},
   "outputs": [
    {
     "name": "stdout",
     "output_type": "stream",
     "text": [
      "Converting linked list to Python list:\n",
      "[50, 40, 25, 20, 30]\n"
     ]
    }
   ],
   "source": [
    "# Convert the list to a Python list\n",
    "print(\"Converting linked list to Python list:\")\n",
    "print(sll.to_list())"
   ]
  }
 ],
 "metadata": {
  "kernelspec": {
   "display_name": "Python 3",
   "language": "python",
   "name": "python3"
  },
  "language_info": {
   "codemirror_mode": {
    "name": "ipython",
    "version": 3
   },
   "file_extension": ".py",
   "mimetype": "text/x-python",
   "name": "python",
   "nbconvert_exporter": "python",
   "pygments_lexer": "ipython3",
   "version": "3.13.0"
  }
 },
 "nbformat": 4,
 "nbformat_minor": 2
}
